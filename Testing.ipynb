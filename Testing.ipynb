{
 "cells": [
  {
   "cell_type": "markdown",
   "id": "8e090c43-cec3-4ee0-ac0f-058bcceb3bfe",
   "metadata": {},
   "source": [
    "# this is a test file"
   ]
  },
  {
   "cell_type": "code",
   "execution_count": 1,
   "id": "0ed5741a-7c45-4562-8b44-6296fb288128",
   "metadata": {},
   "outputs": [],
   "source": [
    "import pandas as pd"
   ]
  }
 ],
 "metadata": {
  "kernelspec": {
   "display_name": "Python 3 (ipykernel)",
   "language": "python",
   "name": "python3"
  },
  "language_info": {
   "codemirror_mode": {
    "name": "ipython",
    "version": 3
   },
   "file_extension": ".py",
   "mimetype": "text/x-python",
   "name": "python",
   "nbconvert_exporter": "python",
   "pygments_lexer": "ipython3",
   "version": "3.12.7"
  }
 },
 "nbformat": 4,
 "nbformat_minor": 5
}
