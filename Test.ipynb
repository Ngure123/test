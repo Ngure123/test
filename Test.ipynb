{
 "cells": [
  {
   "cell_type": "markdown",
   "id": "c99eae02-b225-446f-b959-e2e92e04d141",
   "metadata": {},
   "source": [
    "## Heading2 \n",
    "testing jupyter note book"
   ]
  },
  {
   "cell_type": "code",
   "execution_count": 1,
   "id": "d3df5718-0814-4ac7-890c-92d663c36a74",
   "metadata": {},
   "outputs": [
    {
     "name": "stdout",
     "output_type": "stream",
     "text": [
      "Hello world\n"
     ]
    }
   ],
   "source": [
    "print(\"Hello world\")"
   ]
  }
 ],
 "metadata": {
  "kernelspec": {
   "display_name": "Python 3 (ipykernel)",
   "language": "python",
   "name": "python3"
  },
  "language_info": {
   "codemirror_mode": {
    "name": "ipython",
    "version": 3
   },
   "file_extension": ".py",
   "mimetype": "text/x-python",
   "name": "python",
   "nbconvert_exporter": "python",
   "pygments_lexer": "ipython3",
   "version": "3.12.7"
  }
 },
 "nbformat": 4,
 "nbformat_minor": 5
}
